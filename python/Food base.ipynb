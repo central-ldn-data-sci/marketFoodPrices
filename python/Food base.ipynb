{
 "cells": [
  {
   "cell_type": "code",
   "execution_count": 24,
   "metadata": {
    "collapsed": false
   },
   "outputs": [],
   "source": [
    "import datetime\n",
    "import numpy as np\n",
    "import matplotlib.pyplot as plt\n",
    "import matplotlib.patches as mpatches\n",
    "import urllib, json"
   ]
  },
  {
   "cell_type": "code",
   "execution_count": 21,
   "metadata": {
    "collapsed": false
   },
   "outputs": [],
   "source": [
    "with open('recipelist_utf8.JSON') as data_file:    \n",
    "    data = json.load(data_file, encoding='latin-1')"
   ]
  },
  {
   "cell_type": "code",
   "execution_count": 23,
   "metadata": {
    "collapsed": false
   },
   "outputs": [
    {
     "data": {
      "text/plain": [
       "{'author': ['Mary Berry'],\n",
       " 'cookTime': ['10 to 30 mins'],\n",
       " 'date': ['2014-04-02 01:50:03'],\n",
       " 'desription': ['\\n    This is my standby pasta supper as it is so delicious, so quick and everyone loves it. Great for everyday or for casual supper parties too.\\n'],\n",
       " 'ingred.links': ['pasta',\n",
       "  'ham',\n",
       "  'chestnut mushrooms',\n",
       "  'crème fraîche',\n",
       "  'Parmesan',\n",
       "  'parsley',\n",
       "  'pepper',\n",
       "  'salad',\n",
       "  'bread'],\n",
       " 'ingredients': [' 350g/12oz penne pasta ',\n",
       "  ' 2 x 80g/3oz packs Parma ham, snipped into small pieces',\n",
       "  ' 250g/9oz small brown chestnut mushrooms, halved or quartered',\n",
       "  ' 200g/7oz full-fat crème fraîche',\n",
       "  ' 100g/3½oz Parmesan, grated ',\n",
       "  ' 2 tbsp chopped parsley ',\n",
       "  ' salt and pepper, to taste',\n",
       "  ' green salad',\n",
       "  ' crunchy bread'],\n",
       " 'name': ['15 minute pasta'],\n",
       " 'prepTime': ['less than 30 mins'],\n",
       " 'recipeInstructions': ['Cook the pasta in a pan of boiling salted water according to the packet instructions. Drain and set aside',\n",
       "  'Heat a frying pan until hot. Add the pieces of Parma ham and fry until crisp, remove half of the ham onto a plate and set aside. Add the mushrooms to the pan and fry for two minutes. Add the crème fraîche and bring up to the boil. Add the pasta, Parmesan and parsley and toss together over the heat. Season well with salt and pepper.',\n",
       "  'Serve with a green salad and crunchy bread.'],\n",
       " 'recipeYield': ['Serves 6']}"
      ]
     },
     "execution_count": 23,
     "metadata": {},
     "output_type": "execute_result"
    }
   ],
   "source": [
    "data[1]"
   ]
  },
  {
   "cell_type": "code",
   "execution_count": null,
   "metadata": {
    "collapsed": true
   },
   "outputs": [],
   "source": []
  }
 ],
 "metadata": {
  "anaconda-cloud": {},
  "kernelspec": {
   "display_name": "Python [default]",
   "language": "python",
   "name": "python3"
  },
  "language_info": {
   "codemirror_mode": {
    "name": "ipython",
    "version": 3
   },
   "file_extension": ".py",
   "mimetype": "text/x-python",
   "name": "python",
   "nbconvert_exporter": "python",
   "pygments_lexer": "ipython3",
   "version": "3.5.2"
  }
 },
 "nbformat": 4,
 "nbformat_minor": 1
}
